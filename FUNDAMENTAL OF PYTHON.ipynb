{
 "cells": [
  {
   "cell_type": "markdown",
   "id": "45e85304",
   "metadata": {},
   "source": [
    "# FUNDAMENTAL OF PYTHON"
   ]
  },
  {
   "cell_type": "markdown",
   "id": "52dab6be",
   "metadata": {},
   "source": [
    "# ACCESING A SINGLE STRING\n",
    "\n",
    "1. strings are sequence of chararcter\n",
    "2. sequence index items counting from '0' for the first time :- means table form rahega aur 0 se counting start hogi EG. sam so                                                                  its table form is 0,1,2 if i want a single variable i hv                                                                         menstioned number [2] if i want 'm' "
   ]
  },
  {
   "cell_type": "code",
   "execution_count": 4,
   "id": "2b28275a",
   "metadata": {},
   "outputs": [
    {
     "data": {
      "text/plain": [
       "'i'"
      ]
     },
     "execution_count": 4,
     "metadata": {},
     "output_type": "execute_result"
    }
   ],
   "source": [
    "student_name = \"adil\"\n",
    "#first character is at index 0 \n",
    "student_name [2]"
   ]
  },
  {
   "cell_type": "code",
   "execution_count": 9,
   "id": "ddee2dc5",
   "metadata": {},
   "outputs": [
    {
     "name": "stdout",
     "output_type": "stream",
     "text": [
      "A\n",
      "d\n",
      "i\n",
      "l\n"
     ]
    }
   ],
   "source": [
    "student_name = \"Adil\"\n",
    "print(student_name[0])\n",
    "print(student_name[1])\n",
    "print(student_name[2])\n",
    "print(student_name[3])"
   ]
  },
  {
   "cell_type": "code",
   "execution_count": 16,
   "id": "f82484a9",
   "metadata": {},
   "outputs": [
    {
     "name": "stdout",
     "output_type": "stream",
     "text": [
      "ya it is Rizvi college in bandra\n"
     ]
    }
   ],
   "source": [
    "college_name = \"Rizvi college of engeenering\"\n",
    "if college_name [3].lower() == 'i':\n",
    "    print(\"lovely , college\")\n",
    "elif college_name [0].upper() == 'R':\n",
    "    print(\"ya it is Rizvi college in bandra\")\n",
    "else:\n",
    "    print(\"dont know\")\n"
   ]
  },
  {
   "cell_type": "markdown",
   "id": "626066c8",
   "metadata": {},
   "source": [
    "# USING NEGATIVE INDEX "
   ]
  },
  {
   "cell_type": "code",
   "execution_count": null,
   "id": "4d40c96d",
   "metadata": {},
   "outputs": [],
   "source": [
    "string assign an index number address to each string character\n",
    "\n",
    "1. first character in a string is index 0\n",
    "2. first character in a string is index -1"
   ]
  },
  {
   "cell_type": "code",
   "execution_count": 17,
   "id": "c4ccb71a",
   "metadata": {},
   "outputs": [
    {
     "name": "stdout",
     "output_type": "stream",
     "text": [
      "h\n"
     ]
    }
   ],
   "source": [
    "student_name = \"Adil shaikh\"\n",
    "print(student_name[-1])"
   ]
  },
  {
   "cell_type": "code",
   "execution_count": 18,
   "id": "8bfd9806",
   "metadata": {},
   "outputs": [
    {
     "name": "stdout",
     "output_type": "stream",
     "text": [
      "l\n"
     ]
    }
   ],
   "source": [
    "student_name = \"Adil shaikh\"\n",
    "print(student_name[-8])"
   ]
  },
  {
   "cell_type": "markdown",
   "id": "bbdbb435",
   "metadata": {},
   "source": [
    "# ACCESS SUB-STRINGS"
   ]
  },
  {
   "cell_type": "code",
   "execution_count": null,
   "id": "f3652338",
   "metadata": {},
   "outputs": [],
   "source": [
    "Index string [start : stop]\n",
    "\n",
    "string slicing return a string selection by addresssing the start & stop index"
   ]
  },
  {
   "cell_type": "code",
   "execution_count": 20,
   "id": "3d7be078",
   "metadata": {},
   "outputs": [
    {
     "data": {
      "text/plain": [
       "'Rizvi college'"
      ]
     },
     "execution_count": 20,
     "metadata": {},
     "output_type": "execute_result"
    }
   ],
   "source": [
    "college_name = \"Rizvi college of engeenering\"\n",
    "#addressing the character\n",
    "college_name[0:13]"
   ]
  },
  {
   "cell_type": "code",
   "execution_count": 28,
   "id": "9a3bd275",
   "metadata": {},
   "outputs": [
    {
     "data": {
      "text/plain": [
       "'z'"
      ]
     },
     "execution_count": 28,
     "metadata": {},
     "output_type": "execute_result"
    }
   ],
   "source": [
    "college_name = \"Rizvi college of engeenering\"\n",
    "#addressing the character\n",
    "college_name[2:3]"
   ]
  },
  {
   "cell_type": "markdown",
   "id": "9e55b522",
   "metadata": {},
   "source": [
    "# ACCESS BEGINNING OF SUB-STRING"
   ]
  },
  {
   "cell_type": "code",
   "execution_count": null,
   "id": "5db75800",
   "metadata": {},
   "outputs": [],
   "source": [
    "Index slicing [:stop]\n",
    "\n",
    "1. string slicing return a string a selection from index '0' by using only the 'stop' index\n",
    "\n",
    "2. Default start for a slice is index 0"
   ]
  },
  {
   "cell_type": "code",
   "execution_count": 31,
   "id": "4683789a",
   "metadata": {},
   "outputs": [
    {
     "name": "stdout",
     "output_type": "stream",
     "text": [
      "Adil shaikh\n"
     ]
    }
   ],
   "source": [
    "student_name = \"Adil shaikh\"\n",
    "print(student_name[:11])"
   ]
  },
  {
   "cell_type": "markdown",
   "id": "14f845fb",
   "metadata": {},
   "source": [
    "# ACCESS ENDING OF SUB-STRING"
   ]
  },
  {
   "cell_type": "code",
   "execution_count": null,
   "id": "c274072d",
   "metadata": {},
   "outputs": [],
   "source": [
    "Index slicing [start:]\n",
    "\n",
    "1. string slicing return a string a selection including by addressing by using only the 'start' index\n",
    "\n",
    "2. Defaultend index return up to & including the last string character"
   ]
  },
  {
   "cell_type": "code",
   "execution_count": 32,
   "id": "fe7c7cae",
   "metadata": {},
   "outputs": [
    {
     "name": "stdout",
     "output_type": "stream",
     "text": [
      "Rizvi college of engeenering\n"
     ]
    }
   ],
   "source": [
    "college_name = \"Rizvi college of engeenering\"\n",
    "print(college_name[0:])"
   ]
  },
  {
   "cell_type": "markdown",
   "id": "93e6cb07",
   "metadata": {},
   "source": [
    "# ACCESS SUB-STRING BY STEP SIZE"
   ]
  },
  {
   "cell_type": "code",
   "execution_count": null,
   "id": "87e8a989",
   "metadata": {},
   "outputs": [],
   "source": [
    "[:]   return the entire string\n",
    "\n",
    "[::2] return the first character and then steps to every other char in the string\n",
    "\n",
    "[1::3] return the second character & then steps to every third character in the string"
   ]
  },
  {
   "cell_type": "code",
   "execution_count": 1,
   "id": "d6673cb9",
   "metadata": {},
   "outputs": [
    {
     "name": "stdout",
     "output_type": "stream",
     "text": [
      "Adil shaikh\n"
     ]
    }
   ],
   "source": [
    "student_name = \"Adil shaikh\"\n",
    "print(student_name[:])"
   ]
  },
  {
   "cell_type": "code",
   "execution_count": 3,
   "id": "5d5da4ea",
   "metadata": {},
   "outputs": [
    {
     "name": "stdout",
     "output_type": "stream",
     "text": [
      "dlsak\n"
     ]
    }
   ],
   "source": [
    "student_name = \"Adil shaikh\"\n",
    "print(student_name[1::2])"
   ]
  },
  {
   "cell_type": "code",
   "execution_count": 4,
   "id": "526e363e",
   "metadata": {},
   "outputs": [
    {
     "name": "stdout",
     "output_type": "stream",
     "text": [
      "Alhk\n"
     ]
    }
   ],
   "source": [
    "student_name = \"Adil shaikh\"\n",
    "print(student_name[::3])"
   ]
  },
  {
   "cell_type": "code",
   "execution_count": 6,
   "id": "f1b92c82",
   "metadata": {},
   "outputs": [
    {
     "name": "stdout",
     "output_type": "stream",
     "text": [
      "nesad\n"
     ]
    }
   ],
   "source": [
    "word = \"Understand\"      }      means that 1 se chlu hoga 10 character tak jaega [1:10]\n",
    "print(word [1:10:2]      }phir last wala hai 2 wo define ye karega k 1 se 10 tak word mai 2 gap krke jo aplha baj gai they will print tht"
   ]
  },
  {
   "cell_type": "code",
   "execution_count": null,
   "id": "de030633",
   "metadata": {},
   "outputs": [],
   "source": [
    "ACCESSING SUB-STRING STEPPIN BACKWARD\n",
    "\n",
    "use[::-1] to reverse the condition"
   ]
  },
  {
   "cell_type": "code",
   "execution_count": 7,
   "id": "9f8be23d",
   "metadata": {},
   "outputs": [
    {
     "name": "stdout",
     "output_type": "stream",
     "text": [
      "hkiahs lidA\n"
     ]
    }
   ],
   "source": [
    "student_name = \"Adil shaikh\"\n",
    "print(student_name[::-1])"
   ]
  },
  {
   "cell_type": "code",
   "execution_count": 9,
   "id": "86db223b",
   "metadata": {},
   "outputs": [
    {
     "name": "stdout",
     "output_type": "stream",
     "text": [
      "iahs lidA\n"
     ]
    }
   ],
   "source": [
    "student_name = \"Adil shaikh\"\n",
    "print(student_name[8::-1])"
   ]
  },
  {
   "cell_type": "markdown",
   "id": "49f362c1",
   "metadata": {},
   "source": [
    "# ITERATE A STRING : one character at a time \n",
    "    \n"
   ]
  },
  {
   "cell_type": "code",
   "execution_count": null,
   "id": "e3ace99c",
   "metadata": {},
   "outputs": [],
   "source": [
    "for in statement :- python provies powerfull sequence iteration features. below, for letter in word:\n",
    "                    loop through each letter in word"
   ]
  },
  {
   "cell_type": "code",
   "execution_count": 11,
   "id": "2d581fee",
   "metadata": {},
   "outputs": [
    {
     "name": "stdout",
     "output_type": "stream",
     "text": [
      "Adil shaikh\n",
      "Adil shaikh\n",
      "Adil shaikh\n",
      "Adil shaikh\n",
      "Adil shaikh\n",
      "Adil shaikh\n",
      "Adil shaikh\n",
      "Adil shaikh\n",
      "Adil shaikh\n",
      "Adil shaikh\n",
      "Adil shaikh\n"
     ]
    }
   ],
   "source": [
    "student_name = \"Adil shaikh\"\n",
    "for character in student_name:\n",
    "    print(student_name)"
   ]
  },
  {
   "cell_type": "code",
   "execution_count": 14,
   "id": "09b8d1b0",
   "metadata": {},
   "outputs": [
    {
     "name": "stdout",
     "output_type": "stream",
     "text": [
      "A\n",
      "d\n",
      "i\n",
      "l\n",
      " \n",
      "s\n",
      "h\n",
      "a\n",
      "i\n",
      "k\n",
      "h\n"
     ]
    }
   ],
   "source": [
    "student_name = \"Adil shaikh\"\n",
    "for character in student_name:\n",
    "    print(character)"
   ]
  },
  {
   "cell_type": "code",
   "execution_count": 27,
   "id": "bfdc759f",
   "metadata": {},
   "outputs": [
    {
     "name": "stdout",
     "output_type": "stream",
     "text": [
      "consider same name\n"
     ]
    }
   ],
   "source": [
    "name = \"adil\" \n",
    "new_name = \"\"\n",
    "    \n",
    "for character in name:\n",
    "    if name.lower() == \"i\":\n",
    "        new_name += name.lower() \n",
    "else:\n",
    "    print(\"consider same name\")\n"
   ]
  },
  {
   "cell_type": "markdown",
   "id": "67b94746",
   "metadata": {},
   "source": [
    "# STRING METHOD : LENGTH()\n",
    "\n",
    "len() , retur a string length"
   ]
  },
  {
   "cell_type": "code",
   "execution_count": 29,
   "id": "71702e75",
   "metadata": {},
   "outputs": [
    {
     "name": "stdout",
     "output_type": "stream",
     "text": [
      "11\n"
     ]
    }
   ],
   "source": [
    "student_name = \"Adil shaikh\"\n",
    "print(len(student_name))"
   ]
  },
  {
   "cell_type": "code",
   "execution_count": 30,
   "id": "1998285f",
   "metadata": {},
   "outputs": [
    {
     "name": "stdout",
     "output_type": "stream",
     "text": [
      "Honesty is th\n",
      "e best policy\n"
     ]
    }
   ],
   "source": [
    "person_saying = \"Honesty is the best policy\"\n",
    "listener = int(len(person_saying)/2)\n",
    "\n",
    "# print first half of sentence\n",
    "print(person_saying[:listener])\n",
    "\n",
    "# print second half of sentence\n",
    "print(person_saying[listener:])"
   ]
  },
  {
   "cell_type": "markdown",
   "id": "65b4844b",
   "metadata": {},
   "source": [
    "# string method :- count()\n",
    "\n",
    "return number of times a character or sub-string occur"
   ]
  },
  {
   "cell_type": "code",
   "execution_count": 32,
   "id": "d215b8b5",
   "metadata": {},
   "outputs": [
    {
     "name": "stdout",
     "output_type": "stream",
     "text": [
      "The greatest mathematician of India is RAMANUJAN\n",
      "1\n"
     ]
    }
   ],
   "source": [
    "mathematician = \"The greatest mathematician of India is RAMANUJAN\"\n",
    "print(\"The greatest mathematician of India is RAMANUJAN\")\n",
    "print(mathematician.count(\"r\"))"
   ]
  },
  {
   "cell_type": "code",
   "execution_count": 33,
   "id": "686767dd",
   "metadata": {},
   "outputs": [
    {
     "name": "stdout",
     "output_type": "stream",
     "text": [
      "The greatest mathematician of India is RAMANUJAN\n",
      "how many m's ? 2\n",
      "how many a's ? 5\n"
     ]
    }
   ],
   "source": [
    "print(mathematician)\n",
    "print(\"how many m's ?\" , mathematician.count(\"m\"))\n",
    "print(\"how many a's ?\" , mathematician.count(\"a\"))"
   ]
  },
  {
   "cell_type": "markdown",
   "id": "5d7d405f",
   "metadata": {},
   "source": [
    "# string method :- find()\n",
    "\n",
    "return index of first letter or sub-string match"
   ]
  },
  {
   "cell_type": "code",
   "execution_count": 38,
   "id": "965e9e0c",
   "metadata": {},
   "outputs": [
    {
     "name": "stdout",
     "output_type": "stream",
     "text": [
      "find the index of the first space\n",
      "0\n"
     ]
    }
   ],
   "source": [
    "read_book = \"reading is good habit\"\n",
    "print(\"find the index of the first space\")\n",
    "print(read_book.find(\"\"))"
   ]
  },
  {
   "cell_type": "code",
   "execution_count": 40,
   "id": "1d06f4f7",
   "metadata": {},
   "outputs": [
    {
     "name": "stdout",
     "output_type": "stream",
     "text": [
      "find the index of the first a\n",
      "2\n"
     ]
    }
   ],
   "source": [
    "read_book = \"reading is good habit\"\n",
    "print(\"find the index of the first a\")\n",
    "print(read_book.find(\"a\"))"
   ]
  },
  {
   "cell_type": "code",
   "execution_count": 42,
   "id": "cc8a15a3",
   "metadata": {},
   "outputs": [
    {
     "name": "stdout",
     "output_type": "stream",
     "text": [
      "reading is good habit\n",
      "read_book: reading is good habit\n",
      "1 at index = 4\n",
      "1 at index = 8\n",
      "1 at index = 19\n",
      "no more i's\n"
     ]
    }
   ],
   "source": [
    "read_book = \"reading is good habit\"\n",
    "print(read_book)\n",
    "\n",
    "print(\"read_book:\" , read_book)\n",
    "location = read_book.find(\"i\")\n",
    "\n",
    "# keeps looping until location = -1 (no \"i\" found)\n",
    "while location >= 0:\n",
    "    print(\"1 at index =\", location)\n",
    "    # find(\"i\", location + 1) looks for a \"i\" after index the first \"i\" was found\n",
    "    location = read_book.find(\"i\", location + 1)\n",
    "print(\"no more i's\")"
   ]
  },
  {
   "cell_type": "markdown",
   "id": "1094a37c",
   "metadata": {},
   "source": [
    "# CREATING LIST "
   ]
  },
  {
   "cell_type": "markdown",
   "id": "375e3df1",
   "metadata": {},
   "source": [
    "# LIST CONNTAN COMMA (,) SEPARATED OBJECT encolsed in square bracket []"
   ]
  },
  {
   "cell_type": "code",
   "execution_count": 1,
   "id": "16bdc21e",
   "metadata": {},
   "outputs": [
    {
     "name": "stdout",
     "output_type": "stream",
     "text": [
      "book number: <class 'tuple'>\n",
      "(723, 456, 786)\n"
     ]
    }
   ],
   "source": [
    "book_number = 723 , 456 , 786\n",
    "print(\"book number:\" , type(book_number))\n",
    "print(book_number)"
   ]
  },
  {
   "cell_type": "code",
   "execution_count": 3,
   "id": "5e59e11f",
   "metadata": {},
   "outputs": [
    {
     "name": "stdout",
     "output_type": "stream",
     "text": [
      "mixed list: <class 'tuple'>\n",
      "(24, 7, 31, 'Aries', 'Arisa')\n"
     ]
    }
   ],
   "source": [
    "mixed_list = 24 , 7 , 31 , \"Aries\" , \"Arisa\"\n",
    "\n",
    "#display type information\n",
    "print(\"mixed list:\" , type(mixed_list))\n",
    "\n",
    "#print the list\n",
    "print(mixed_list)"
   ]
  },
  {
   "cell_type": "markdown",
   "id": "44811bde",
   "metadata": {},
   "source": [
    "# Accessing list by using index"
   ]
  },
  {
   "cell_type": "code",
   "execution_count": null,
   "id": "e11401e8",
   "metadata": {},
   "outputs": [],
   "source": [
    "list contain comma separated objects enclosed in square brackets []\n",
    "lists give an index number to each list item\n",
    "first element in a list i index 0"
   ]
  },
  {
   "cell_type": "code",
   "execution_count": 5,
   "id": "c5d4662d",
   "metadata": {},
   "outputs": [
    {
     "data": {
      "text/plain": [
       "1050"
      ]
     },
     "execution_count": 5,
     "metadata": {},
     "output_type": "execute_result"
    }
   ],
   "source": [
    "car_number = [1531 , 2442 , 0o01, 0o02 , 1050]\n",
    "car_number [4]"
   ]
  },
  {
   "cell_type": "code",
   "execution_count": 6,
   "id": "c48744aa",
   "metadata": {},
   "outputs": [
    {
     "name": "stdout",
     "output_type": "stream",
     "text": [
      "test_marks_total: 245\n"
     ]
    }
   ],
   "source": [
    "test_mark = [80,70,50,35,90,45,85]\n",
    "\n",
    "sum_total = test_mark[1] + test_mark[4] + test_mark[6]\n",
    "print(\"test_marks_total:\",sum_total)"
   ]
  },
  {
   "cell_type": "code",
   "execution_count": null,
   "id": "60170155",
   "metadata": {},
   "outputs": [],
   "source": [
    "#INSERT A NEW VALUE FOR  AN INDEX "
   ]
  },
  {
   "cell_type": "markdown",
   "id": "97804b0c",
   "metadata": {},
   "source": [
    "# overwriting a specific index in a list"
   ]
  },
  {
   "cell_type": "code",
   "execution_count": 8,
   "id": "1e2de430",
   "metadata": {},
   "outputs": [
    {
     "name": "stdout",
     "output_type": "stream",
     "text": [
      "student_name before: ['Adil , Haroon , Amaan , Ali']\n",
      "student_name After: ['l', 'e', 'a', 'v', 'e']\n"
     ]
    }
   ],
   "source": [
    "student_name = [\"Adil , Haroon , Amaan , Ali\"]\n",
    "print(\"student_name before:\" , student_name)\n",
    "\n",
    "#after insert the value\n",
    "student_name[:2] = \"leave\" \n",
    "print(\"student_name After:\" , student_name)"
   ]
  },
  {
   "cell_type": "code",
   "execution_count": 10,
   "id": "2b6ffec6",
   "metadata": {},
   "outputs": [
    {
     "name": "stdout",
     "output_type": "stream",
     "text": [
      "student_name before: ['Adil', 'Haroon', 'Amaan', 'Ali']\n",
      "student_name After: ['Adil', 'Haroon', 'Fardeen', 'Ali']\n"
     ]
    }
   ],
   "source": [
    "student_name = [\"Adil\" , \"Haroon\" , \"Amaan\" , \"Ali\"]\n",
    "print(\"student_name before:\" , student_name)\n",
    "\n",
    "#after insert the value\n",
    "student_name[2] = \"Fardeen\" \n",
    "print(\"student_name After:\" , student_name)"
   ]
  },
  {
   "cell_type": "code",
   "execution_count": 14,
   "id": "a238b0cc",
   "metadata": {},
   "outputs": [
    {
     "name": "stdout",
     "output_type": "stream",
     "text": [
      "student_name before: ['Adil', 'Haroon', 'Amaan', 'Ali']\n",
      "student_name After: ['Adil', 'Haroon', 'Amaan Fardeen', 'Ali']\n"
     ]
    }
   ],
   "source": [
    "student_name = [\"Adil\" , \"Haroon\" , \"Amaan\" , \"Ali\"]\n",
    "print(\"student_name before:\" , student_name)\n",
    "\n",
    "#after insert the value\n",
    "student_name[2] += \" Fardeen\" \n",
    "print(\"student_name After:\" , student_name)"
   ]
  },
  {
   "cell_type": "markdown",
   "id": "2b270a39",
   "metadata": {},
   "source": [
    "# Appending to a list :- applicable for open,closed bracket only ()"
   ]
  },
  {
   "cell_type": "code",
   "execution_count": null,
   "id": "1ea66a8e",
   "metadata": {},
   "outputs": [],
   "source": [
    ".append() method adds an item to the end of a list"
   ]
  },
  {
   "cell_type": "code",
   "execution_count": 16,
   "id": "8f1db2f2",
   "metadata": {},
   "outputs": [
    {
     "name": "stdout",
     "output_type": "stream",
     "text": [
      "sample_list Before: [1, 2, 3]\n",
      "sample_list After: [1, 2, 3, 4]\n"
     ]
    }
   ],
   "source": [
    "sample_list = [1 , 2 , 3]\n",
    "print(\"sample_list Before:\" , sample_list)\n",
    "\n",
    "#using append function to add value\n",
    "sample_list.append(4)\n",
    "print(\"sample_list After:\" , sample_list)"
   ]
  },
  {
   "cell_type": "markdown",
   "id": "718b99ac",
   "metadata": {},
   "source": [
    "# insert item into a list"
   ]
  },
  {
   "cell_type": "markdown",
   "id": "23f5c410",
   "metadata": {},
   "source": [
    "# use .insert() to define an index to insert an item  only in () "
   ]
  },
  {
   "cell_type": "code",
   "execution_count": null,
   "id": "bcaf1c8e",
   "metadata": {},
   "outputs": [],
   "source": [
    "Insert, doesn't overwrite\n",
    "Increase index by 1, at and above the insertion point\n",
    "can use to Append a new index to the end of the list"
   ]
  },
  {
   "cell_type": "code",
   "execution_count": 20,
   "id": "f4f83f08",
   "metadata": {},
   "outputs": [
    {
     "name": "stdout",
     "output_type": "stream",
     "text": [
      "student_name before: ['Adil', 'Haroon', 'Amaan', 'Ali']\n",
      "student_name After: ['Adil', 'Haroon', 'Fardeen', 'Amaan', 'Ali']\n"
     ]
    }
   ],
   "source": [
    "student_name = [\"Adil\" , \"Haroon\" , \"Amaan\" , \"Ali\"]\n",
    "print(\"student_name before:\" , student_name)\n",
    "\n",
    "#after insert the value\n",
    "student_name.insert(2,\"Fardeen\") \n",
    "print(\"student_name After:\" , student_name)"
   ]
  },
  {
   "cell_type": "markdown",
   "id": "60c90dda",
   "metadata": {},
   "source": [
    "# .FORMAT"
   ]
  },
  {
   "cell_type": "code",
   "execution_count": 26,
   "id": "8a742af6",
   "metadata": {},
   "outputs": [
    {
     "name": "stdout",
     "output_type": "stream",
     "text": [
      "Adil Shaikh is in BE\n"
     ]
    }
   ],
   "source": [
    "grade = \"BE\"\n",
    "student_name = \"Adil Shaikh\"\n",
    "print(student_name , \"is in\" , grade)"
   ]
  },
  {
   "cell_type": "code",
   "execution_count": 34,
   "id": "65ee5463",
   "metadata": {},
   "outputs": [
    {
     "name": "stdout",
     "output_type": "stream",
     "text": [
      "Adil Shaikh is in (2, 'nd year')\n"
     ]
    }
   ],
   "source": [
    "grade = (2 , \"nd year\")\n",
    "student_name = \"Adil Shaikh\"\n",
    "print(student_name , \"is in\" , str(grade))"
   ]
  },
  {
   "cell_type": "code",
   "execution_count": 39,
   "id": "42b9d7a1",
   "metadata": {},
   "outputs": [
    {
     "name": "stdout",
     "output_type": "stream",
     "text": [
      "Adil Shaikh is in class (2, 'nd year')\n"
     ]
    }
   ],
   "source": [
    "grade = (2 , \"nd year\")\n",
    "student_name = \"Adil Shaikh\"\n",
    "print(\"{} is in class {}\".format(student_name,grade))"
   ]
  },
  {
   "cell_type": "markdown",
   "id": "cf4c8e23",
   "metadata": {},
   "source": [
    "# Iterate through list using :- for , in    (ek ek niche assemble hoenge)\n"
   ]
  },
  {
   "cell_type": "code",
   "execution_count": 31,
   "id": "76f3d22f",
   "metadata": {},
   "outputs": [
    {
     "name": "stdout",
     "output_type": "stream",
     "text": [
      "dekin\n",
      "dubai\n",
      "Hydrabad\n",
      "dairadhun\n",
      "delhi\n"
     ]
    }
   ],
   "source": [
    "cities = {\"Hydrabad\" , \"delhi\" , \"dubai\" , \"dekin\" , \"dairadhun\"}\n",
    "for city in cities:\n",
    "    print (city)\n"
   ]
  },
  {
   "cell_type": "code",
   "execution_count": 29,
   "id": "1a36ad1a",
   "metadata": {},
   "outputs": [
    {
     "name": "stdout",
     "output_type": "stream",
     "text": [
      "[16, 18, 20, 22, 24, 26, 28, 2]\n",
      "total sales 156\n"
     ]
    }
   ],
   "source": [
    "sales = [16, 18, 20, 22, 24, 26, 28, 2]\n",
    "print(sales)\n",
    "total = 0\n",
    "\n",
    "for sale_sum in sales:\n",
    "    total += sale_sum\n",
    "print(\"total sales\" , total)"
   ]
  },
  {
   "cell_type": "code",
   "execution_count": 24,
   "id": "64d5f272",
   "metadata": {},
   "outputs": [
    {
     "name": "stdout",
     "output_type": "stream",
     "text": [
      "16\n",
      "18\n",
      "20\n",
      "22\n",
      "24\n",
      "26\n",
      "28\n",
      "2\n",
      "total sales 156\n"
     ]
    }
   ],
   "source": [
    "sales = [16, 18, 20, 22, 24, 26, 28, 2]\n",
    "\n",
    "total = 0\n",
    "\n",
    "for sale_sum in sales:\n",
    "    print(sale_sum)\n",
    "    total += sale_sum\n",
    "print(\"total sales\" , total)"
   ]
  },
  {
   "cell_type": "code",
   "execution_count": null,
   "id": "87b66a57",
   "metadata": {},
   "outputs": [],
   "source": []
  }
 ],
 "metadata": {
  "kernelspec": {
   "display_name": "Python 3 (ipykernel)",
   "language": "python",
   "name": "python3"
  },
  "language_info": {
   "codemirror_mode": {
    "name": "ipython",
    "version": 3
   },
   "file_extension": ".py",
   "mimetype": "text/x-python",
   "name": "python",
   "nbconvert_exporter": "python",
   "pygments_lexer": "ipython3",
   "version": "3.9.13"
  }
 },
 "nbformat": 4,
 "nbformat_minor": 5
}
